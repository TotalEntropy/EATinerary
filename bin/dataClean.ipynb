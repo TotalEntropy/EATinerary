{
 "cells": [
  {
   "cell_type": "code",
   "execution_count": 1,
   "metadata": {},
   "outputs": [],
   "source": [
    "# Importing dependencies\n",
    "import os\n",
    "import pandas as pd"
   ]
  },
  {
   "cell_type": "code",
   "execution_count": 2,
   "metadata": {},
   "outputs": [],
   "source": [
    "# Path to raw dataset not uploaded to github due to size requirement\n",
    "yelp_business_raw_path = os.path.join('..', 'data', 'yelp_dataset', 'raw', 'business.json')"
   ]
  },
  {
   "cell_type": "code",
   "execution_count": 3,
   "metadata": {},
   "outputs": [],
   "source": [
    "# Creating pd dataframe\n",
    "yelp_business_raw = pd.read_json(yelp_business_raw_path, lines=True)"
   ]
  },
  {
   "cell_type": "code",
   "execution_count": 4,
   "metadata": {},
   "outputs": [],
   "source": [
    "# yelp_business_raw.count()"
   ]
  },
  {
   "cell_type": "code",
   "execution_count": 5,
   "metadata": {},
   "outputs": [],
   "source": [
    "# yelp_business_raw.head()"
   ]
  },
  {
   "cell_type": "code",
   "execution_count": 6,
   "metadata": {},
   "outputs": [],
   "source": [
    "# Select only the businesses in Ontario\n",
    "yelp_business_ontario = yelp_business_raw.loc[yelp_business_raw['state'] == 'ON']"
   ]
  },
  {
   "cell_type": "code",
   "execution_count": 7,
   "metadata": {},
   "outputs": [],
   "source": [
    "#yelp_business_ontario.head()"
   ]
  },
  {
   "cell_type": "code",
   "execution_count": 8,
   "metadata": {},
   "outputs": [],
   "source": [
    "# yelp_business_ontario.count()"
   ]
  },
  {
   "cell_type": "code",
   "execution_count": 9,
   "metadata": {},
   "outputs": [],
   "source": [
    "# Dropping any rows with blank values in these categories\n",
    "yelp_business_ontario_clean = yelp_business_ontario.dropna(subset=['name', 'address', 'postal_code', 'city', 'state', 'latitude', 'longitude', 'attributes',\n",
    "                                                          'categories']).reset_index()"
   ]
  },
  {
   "cell_type": "code",
   "execution_count": 10,
   "metadata": {},
   "outputs": [],
   "source": [
    "#yelp_business_ontario_clean.count()"
   ]
  },
  {
   "cell_type": "code",
   "execution_count": 11,
   "metadata": {},
   "outputs": [],
   "source": [
    "# Select only the categories containing restaurant\n",
    "# yelp_business_ontario_clean['categories'].str.contains('Restaurants')"
   ]
  },
  {
   "cell_type": "code",
   "execution_count": 12,
   "metadata": {},
   "outputs": [],
   "source": [
    "# Selecting all of the restaurants\n",
    "yelp_restaurants_ontario = yelp_business_ontario_clean[yelp_business_ontario_clean['categories'].str.contains('Restaurants')].reset_index()"
   ]
  },
  {
   "cell_type": "code",
   "execution_count": 13,
   "metadata": {},
   "outputs": [],
   "source": [
    "#yelp_restaurants_ontario.count()"
   ]
  },
  {
   "cell_type": "code",
   "execution_count": 14,
   "metadata": {},
   "outputs": [],
   "source": [
    "#yelp_restaurants_ontario.head()"
   ]
  },
  {
   "cell_type": "code",
   "execution_count": 15,
   "metadata": {},
   "outputs": [],
   "source": [
    "# yelp_restaurants_ontario.head()"
   ]
  },
  {
   "cell_type": "code",
   "execution_count": 16,
   "metadata": {},
   "outputs": [],
   "source": [
    "yelp_restaurants_ontario['City Lowercase'] = yelp_restaurants_ontario['city'].str.lower()"
   ]
  },
  {
   "cell_type": "code",
   "execution_count": 17,
   "metadata": {},
   "outputs": [],
   "source": [
    "# Only taking these columns\n",
    "yelp_restaurants_ontario_clean = yelp_restaurants_ontario.loc[:, ['name', 'address', 'postal_code', 'city', 'City Lowercase', 'state', 'latitude', 'longitude',\n",
    "                                                                  'attributes', 'categories', 'stars', 'hours']]"
   ]
  },
  {
   "cell_type": "code",
   "execution_count": 18,
   "metadata": {},
   "outputs": [],
   "source": [
    "# yelp_restaurants_ontario_clean.head()"
   ]
  },
  {
   "cell_type": "code",
   "execution_count": 19,
   "metadata": {},
   "outputs": [],
   "source": [
    "# Renaming the columns\n",
    "yelp_restaurants_ontario_clean.columns\n",
    "yelp_restaurants_ontario_clean.columns = ['Name', 'Address', 'Postal code', 'City', 'City Lowercase', 'Province', 'Latitude', 'Longitude',\n",
    "       'Attributes', 'Categories', 'Stars', 'Hours']"
   ]
  },
  {
   "cell_type": "code",
   "execution_count": 20,
   "metadata": {},
   "outputs": [
    {
     "data": {
      "text/html": [
       "<div>\n",
       "<style scoped>\n",
       "    .dataframe tbody tr th:only-of-type {\n",
       "        vertical-align: middle;\n",
       "    }\n",
       "\n",
       "    .dataframe tbody tr th {\n",
       "        vertical-align: top;\n",
       "    }\n",
       "\n",
       "    .dataframe thead th {\n",
       "        text-align: right;\n",
       "    }\n",
       "</style>\n",
       "<table border=\"1\" class=\"dataframe\">\n",
       "  <thead>\n",
       "    <tr style=\"text-align: right;\">\n",
       "      <th></th>\n",
       "      <th>Name</th>\n",
       "      <th>Address</th>\n",
       "      <th>Postal code</th>\n",
       "      <th>City</th>\n",
       "      <th>City Lowercase</th>\n",
       "      <th>Province</th>\n",
       "      <th>Latitude</th>\n",
       "      <th>Longitude</th>\n",
       "      <th>Attributes</th>\n",
       "      <th>Categories</th>\n",
       "      <th>Stars</th>\n",
       "      <th>Hours</th>\n",
       "    </tr>\n",
       "  </thead>\n",
       "  <tbody>\n",
       "    <tr>\n",
       "      <th>0</th>\n",
       "      <td>Emerald Chinese Restaurant</td>\n",
       "      <td>30 Eglinton Avenue W</td>\n",
       "      <td>L5R 3E7</td>\n",
       "      <td>Mississauga</td>\n",
       "      <td>mississauga</td>\n",
       "      <td>ON</td>\n",
       "      <td>43.605499</td>\n",
       "      <td>-79.652289</td>\n",
       "      <td>{'RestaurantsReservations': 'True', 'GoodForMe...</td>\n",
       "      <td>Specialty Food, Restaurants, Dim Sum, Imported...</td>\n",
       "      <td>2.5</td>\n",
       "      <td>{'Monday': '9:0-0:0', 'Tuesday': '9:0-0:0', 'W...</td>\n",
       "    </tr>\n",
       "    <tr>\n",
       "      <th>1</th>\n",
       "      <td>Bolt Fresh Bar</td>\n",
       "      <td>1170 Queen Street W</td>\n",
       "      <td>M6J 1J5</td>\n",
       "      <td>Toronto</td>\n",
       "      <td>toronto</td>\n",
       "      <td>ON</td>\n",
       "      <td>43.642889</td>\n",
       "      <td>-79.425429</td>\n",
       "      <td>{'WiFi': 'u'no'', 'BikeParking': 'True', 'Rest...</td>\n",
       "      <td>Juice Bars &amp; Smoothies, Food, Restaurants, Fas...</td>\n",
       "      <td>3.0</td>\n",
       "      <td>{'Monday': '8:0-21:0', 'Tuesday': '8:0-21:0', ...</td>\n",
       "    </tr>\n",
       "    <tr>\n",
       "      <th>2</th>\n",
       "      <td>The Steady Cafe &amp; Bar</td>\n",
       "      <td>1051 Bloor Street W</td>\n",
       "      <td>M6H 1M4</td>\n",
       "      <td>Toronto</td>\n",
       "      <td>toronto</td>\n",
       "      <td>ON</td>\n",
       "      <td>43.660494</td>\n",
       "      <td>-79.432099</td>\n",
       "      <td>{'BusinessParking': '{'garage': False, 'street...</td>\n",
       "      <td>Restaurants, Nightlife, Breakfast &amp; Brunch, Ve...</td>\n",
       "      <td>3.5</td>\n",
       "      <td>{'Tuesday': '9:0-18:0', 'Wednesday': '9:0-18:0...</td>\n",
       "    </tr>\n",
       "    <tr>\n",
       "      <th>3</th>\n",
       "      <td>Mad Crush Wine Bar</td>\n",
       "      <td>582 College Street</td>\n",
       "      <td>M6G 1B3</td>\n",
       "      <td>Toronto</td>\n",
       "      <td>toronto</td>\n",
       "      <td>ON</td>\n",
       "      <td>43.655420</td>\n",
       "      <td>-79.413352</td>\n",
       "      <td>{'Alcohol': 'u'full_bar'', 'Caters': 'False', ...</td>\n",
       "      <td>Restaurants, Breakfast &amp; Brunch, Bars, Modern ...</td>\n",
       "      <td>4.0</td>\n",
       "      <td>{'Thursday': '18:0-2:0', 'Friday': '18:0-2:0',...</td>\n",
       "    </tr>\n",
       "    <tr>\n",
       "      <th>4</th>\n",
       "      <td>J's Fish &amp; Chips</td>\n",
       "      <td>17205 Leslie Street, Unit 2</td>\n",
       "      <td>L3Y 8Y8</td>\n",
       "      <td>Newmarket</td>\n",
       "      <td>newmarket</td>\n",
       "      <td>ON</td>\n",
       "      <td>44.058765</td>\n",
       "      <td>-79.429115</td>\n",
       "      <td>{'RestaurantsAttire': ''casual'', 'Restaurants...</td>\n",
       "      <td>Fish &amp; Chips, Restaurants</td>\n",
       "      <td>4.5</td>\n",
       "      <td>None</td>\n",
       "    </tr>\n",
       "  </tbody>\n",
       "</table>\n",
       "</div>"
      ],
      "text/plain": [
       "                         Name                      Address Postal code  \\\n",
       "0  Emerald Chinese Restaurant         30 Eglinton Avenue W     L5R 3E7   \n",
       "1              Bolt Fresh Bar          1170 Queen Street W     M6J 1J5   \n",
       "2       The Steady Cafe & Bar          1051 Bloor Street W     M6H 1M4   \n",
       "3          Mad Crush Wine Bar           582 College Street     M6G 1B3   \n",
       "4            J's Fish & Chips  17205 Leslie Street, Unit 2     L3Y 8Y8   \n",
       "\n",
       "          City City Lowercase Province   Latitude  Longitude  \\\n",
       "0  Mississauga    mississauga       ON  43.605499 -79.652289   \n",
       "1      Toronto        toronto       ON  43.642889 -79.425429   \n",
       "2      Toronto        toronto       ON  43.660494 -79.432099   \n",
       "3      Toronto        toronto       ON  43.655420 -79.413352   \n",
       "4    Newmarket      newmarket       ON  44.058765 -79.429115   \n",
       "\n",
       "                                          Attributes  \\\n",
       "0  {'RestaurantsReservations': 'True', 'GoodForMe...   \n",
       "1  {'WiFi': 'u'no'', 'BikeParking': 'True', 'Rest...   \n",
       "2  {'BusinessParking': '{'garage': False, 'street...   \n",
       "3  {'Alcohol': 'u'full_bar'', 'Caters': 'False', ...   \n",
       "4  {'RestaurantsAttire': ''casual'', 'Restaurants...   \n",
       "\n",
       "                                          Categories  Stars  \\\n",
       "0  Specialty Food, Restaurants, Dim Sum, Imported...    2.5   \n",
       "1  Juice Bars & Smoothies, Food, Restaurants, Fas...    3.0   \n",
       "2  Restaurants, Nightlife, Breakfast & Brunch, Ve...    3.5   \n",
       "3  Restaurants, Breakfast & Brunch, Bars, Modern ...    4.0   \n",
       "4                          Fish & Chips, Restaurants    4.5   \n",
       "\n",
       "                                               Hours  \n",
       "0  {'Monday': '9:0-0:0', 'Tuesday': '9:0-0:0', 'W...  \n",
       "1  {'Monday': '8:0-21:0', 'Tuesday': '8:0-21:0', ...  \n",
       "2  {'Tuesday': '9:0-18:0', 'Wednesday': '9:0-18:0...  \n",
       "3  {'Thursday': '18:0-2:0', 'Friday': '18:0-2:0',...  \n",
       "4                                               None  "
      ]
     },
     "execution_count": 20,
     "metadata": {},
     "output_type": "execute_result"
    }
   ],
   "source": [
    "yelp_restaurants_ontario_clean.head()"
   ]
  },
  {
   "cell_type": "code",
   "execution_count": 21,
   "metadata": {},
   "outputs": [],
   "source": [
    "#yelp_restaurants_ontario_clean.dtypes"
   ]
  },
  {
   "cell_type": "code",
   "execution_count": 22,
   "metadata": {},
   "outputs": [],
   "source": [
    "# yelp_restaurants_ontario_clean"
   ]
  },
  {
   "cell_type": "code",
   "execution_count": 23,
   "metadata": {},
   "outputs": [],
   "source": [
    "# yelp_restaurants_ontario_clean.City.unique()"
   ]
  },
  {
   "cell_type": "code",
   "execution_count": 24,
   "metadata": {},
   "outputs": [],
   "source": [
    "# Write csv or ontario restaurants only\n",
    "yelp_restaurants_ontario_clean_csv_path = os.path.join('..', 'data', 'yelp_dataset', 'clean', 'restaurants.csv')\n",
    "yelp_restaurants_ontario_clean.to_csv(yelp_restaurants_ontario_clean_csv_path)"
   ]
  },
  {
   "cell_type": "code",
   "execution_count": 25,
   "metadata": {},
   "outputs": [],
   "source": [
    "# Create json file\n",
    "yelp_restaurants_ontario_clean_json_path = os.path.join('..', 'data', 'yelp_dataset', 'clean', 'restaurants.json')\n",
    "yelp_restaurants_ontario_clean.to_json(yelp_restaurants_ontario_clean_json_path, orient='index')"
   ]
  }
 ],
 "metadata": {
  "kernelspec": {
   "display_name": "Python 3",
   "language": "python",
   "name": "python3"
  },
  "language_info": {
   "codemirror_mode": {
    "name": "ipython",
    "version": 3
   },
   "file_extension": ".py",
   "mimetype": "text/x-python",
   "name": "python",
   "nbconvert_exporter": "python",
   "pygments_lexer": "ipython3",
   "version": "3.7.3"
  }
 },
 "nbformat": 4,
 "nbformat_minor": 2
}
