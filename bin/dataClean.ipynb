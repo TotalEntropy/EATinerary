{
 "cells": [
  {
   "cell_type": "code",
   "execution_count": 1,
   "metadata": {},
   "outputs": [],
   "source": [
    "# Importing dependencies\n",
    "import os\n",
    "import pandas as pd"
   ]
  },
  {
   "cell_type": "code",
   "execution_count": 2,
   "metadata": {},
   "outputs": [],
   "source": [
    "# Path to raw dataset not uploaded to github due to size requirement\n",
    "yelp_business_raw_path = os.path.join('..', 'data', 'yelp_dataset', 'raw', 'business.json')"
   ]
  },
  {
   "cell_type": "code",
   "execution_count": 3,
   "metadata": {},
   "outputs": [],
   "source": [
    "# Creating pd dataframe\n",
    "yelp_business_raw = pd.read_json(yelp_business_raw_path, lines=True)"
   ]
  },
  {
   "cell_type": "code",
   "execution_count": 4,
   "metadata": {},
   "outputs": [],
   "source": [
    "# yelp_business_raw.count()"
   ]
  },
  {
   "cell_type": "code",
   "execution_count": 5,
   "metadata": {},
   "outputs": [],
   "source": [
    "# yelp_business_raw.head()"
   ]
  },
  {
   "cell_type": "code",
   "execution_count": 6,
   "metadata": {},
   "outputs": [],
   "source": [
    "# Select only the businesses in Ontario\n",
    "yelp_business_ontario = yelp_business_raw.loc[yelp_business_raw['state'] == 'ON']"
   ]
  },
  {
   "cell_type": "code",
   "execution_count": 7,
   "metadata": {},
   "outputs": [],
   "source": [
    "#yelp_business_ontario.head()"
   ]
  },
  {
   "cell_type": "code",
   "execution_count": 8,
   "metadata": {},
   "outputs": [],
   "source": [
    "# yelp_business_ontario.count()"
   ]
  },
  {
   "cell_type": "code",
   "execution_count": 9,
   "metadata": {},
   "outputs": [],
   "source": [
    "# Dropping any rows with blank values in these categories\n",
    "yelp_business_ontario_clean = yelp_business_ontario.dropna(subset=['name', 'address', 'postal_code', 'city', 'state', 'latitude', 'longitude', 'attributes',\n",
    "                                                          'categories']).reset_index()"
   ]
  },
  {
   "cell_type": "code",
   "execution_count": 10,
   "metadata": {},
   "outputs": [],
   "source": [
    "#yelp_business_ontario_clean.count()"
   ]
  },
  {
   "cell_type": "code",
   "execution_count": 11,
   "metadata": {},
   "outputs": [],
   "source": [
    "# Select only the categories containing restaurant\n",
    "# yelp_business_ontario_clean['categories'].str.contains('Restaurants')"
   ]
  },
  {
   "cell_type": "code",
   "execution_count": 12,
   "metadata": {},
   "outputs": [],
   "source": [
    "# Selecting all of the restaurants\n",
    "yelp_restaurants_ontario = yelp_business_ontario_clean[yelp_business_ontario_clean['categories'].str.contains('Restaurants')].reset_index()"
   ]
  },
  {
   "cell_type": "code",
   "execution_count": 13,
   "metadata": {},
   "outputs": [],
   "source": [
    "#yelp_restaurants_ontario.count()"
   ]
  },
  {
   "cell_type": "code",
   "execution_count": 14,
   "metadata": {},
   "outputs": [],
   "source": [
    "#yelp_restaurants_ontario.head()"
   ]
  },
  {
   "cell_type": "code",
   "execution_count": 15,
   "metadata": {},
   "outputs": [],
   "source": [
    "# Only taking these columns\n",
    "yelp_restaurants_ontario_clean = yelp_restaurants_ontario.loc[:, ['name', 'address', 'postal_code', 'city', 'state', 'latitude', 'longitude',\n",
    "                                                                  'attributes', 'categories', 'stars', 'hours']]"
   ]
  },
  {
   "cell_type": "code",
   "execution_count": 16,
   "metadata": {},
   "outputs": [],
   "source": [
    "#yelp_restaurants_ontario_clean.head()"
   ]
  },
  {
   "cell_type": "code",
   "execution_count": 17,
   "metadata": {},
   "outputs": [],
   "source": [
    "# Renaming the columns\n",
    "yelp_restaurants_ontario_clean.columns\n",
    "yelp_restaurants_ontario_clean.columns = ['Name', 'Address', 'Postal code', 'City', 'Province', 'Latitude', 'Longitude',\n",
    "       'Attributes', 'Categories', 'Stars', 'Hours']"
   ]
  },
  {
   "cell_type": "code",
   "execution_count": 18,
   "metadata": {},
   "outputs": [],
   "source": [
    "# yelp_restaurants_ontario_clean.head()"
   ]
  },
  {
   "cell_type": "code",
   "execution_count": 19,
   "metadata": {},
   "outputs": [],
   "source": [
    "#yelp_restaurants_ontario_clean.dtypes"
   ]
  },
  {
   "cell_type": "code",
   "execution_count": 20,
   "metadata": {},
   "outputs": [],
   "source": [
    "# yelp_restaurants_ontario_clean"
   ]
  },
  {
   "cell_type": "code",
   "execution_count": 22,
   "metadata": {},
   "outputs": [
    {
     "data": {
      "text/plain": [
       "array(['Mississauga', 'Toronto', 'Newmarket', 'Etobicoke', 'Pickering',\n",
       "       'Richmond Hill', 'North York', 'Markham', 'Tottenham',\n",
       "       'Scarborough', 'Oakville', 'Brampton', 'Ajax', 'Thornhill',\n",
       "       'East York', 'Aurora', 'Maple', 'Vaughan', 'Bolton', 'Bradford',\n",
       "       'Mount Albert', 'Concord', 'Bradford West Gwillimbury', 'King',\n",
       "       'York', 'Kleinburg', 'Woodbridge', 'Brooklin', 'Whitby',\n",
       "       'Whitchurch-Stouffville', 'Georgetown', 'Stouffville',\n",
       "       'Halton Hills', 'THORNHILL', 'Beeton', 'King City', 'Schomberg',\n",
       "       'Thornhil', 'Missisauga', 'East Gwillimbury', 'North  York',\n",
       "       'Uxbridge', 'Caledon', 'Milton', 'Unionville', 'Rexdale',\n",
       "       'Caledon East', 'Nobleton', 'Thorncliffe Park', 'Port Credit',\n",
       "       'Agincourt', 'Clarkson', 'Oshawa', 'Malton', 'Sharon', 'Waterloo',\n",
       "       'Inglewood', 'Etobiicoke', 'Richmond Hil', 'Oak Ridges',\n",
       "       'Palgrave', 'Caledon Village', 'Bond Head', 'ETOBICOKE',\n",
       "       'New Tecumseth', 'Toronto Scarborough', 'Willowdale', 'Whiitby',\n",
       "       'River Drive Park', 'Etibicoke', 'Tornto', 'AGINCOURT',\n",
       "       'Centre Island', 'North Toronto', 'East Ajax', 'Scarobrough',\n",
       "       'Glen Williams', 'Whtiby', 'Goodwood', 'Holland Landing',\n",
       "       'Streetsville', 'Mississuaga', 'Oakridges',\n",
       "       'Regional Municipality of York', 'Don Mills'], dtype=object)"
      ]
     },
     "execution_count": 22,
     "metadata": {},
     "output_type": "execute_result"
    }
   ],
   "source": [
    "yelp_restaurants_ontario_clean.City.unique()"
   ]
  },
  {
   "cell_type": "code",
   "execution_count": null,
   "metadata": {},
   "outputs": [],
   "source": [
    "# Write csv or ontario restaurants only\n",
    "yelp_restaurants_ontario_clean_csv_path = os.path.join('..', 'data', 'yelp_dataset', 'clean', 'restaurants.csv')\n",
    "yelp_restaurants_ontario_clean.to_csv(yelp_restaurants_ontario_clean_csv_path)"
   ]
  },
  {
   "cell_type": "code",
   "execution_count": null,
   "metadata": {},
   "outputs": [],
   "source": [
    "# Create json file\n",
    "yelp_restaurants_ontario_clean_json_path = os.path.join('..', 'data', 'yelp_dataset', 'clean', 'restaurants.json')\n",
    "yelp_restaurants_ontario_clean.to_json(yelp_restaurants_ontario_clean_json_path, orient='index')"
   ]
  }
 ],
 "metadata": {
  "kernelspec": {
   "display_name": "Python 3",
   "language": "python",
   "name": "python3"
  },
  "language_info": {
   "codemirror_mode": {
    "name": "ipython",
    "version": 3
   },
   "file_extension": ".py",
   "mimetype": "text/x-python",
   "name": "python",
   "nbconvert_exporter": "python",
   "pygments_lexer": "ipython3",
   "version": "3.7.3"
  }
 },
 "nbformat": 4,
 "nbformat_minor": 2
}
